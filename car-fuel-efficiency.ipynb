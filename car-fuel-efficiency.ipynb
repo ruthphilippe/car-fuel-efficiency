{
 "cells": [
  {
   "cell_type": "markdown",
   "id": "edb48446",
   "metadata": {},
   "source": [
    "# Predicting Car Fuel Efficiency\n",
    "\n",
    "Problem Statement\n",
    "\n",
    "You're given data about cars(like engize size, weight, and horsepower). Can we predict how many miles per gallon a car gets?\n",
    "\n",
    "This is useful in the automotive industry and enviromental analytics(predicting fuel economy, emmisions, etc.)"
   ]
  },
  {
   "cell_type": "code",
   "execution_count": 1,
   "id": "e84d38f3",
   "metadata": {},
   "outputs": [],
   "source": [
    "# Import Libraries\n",
    "\n",
    "import numpy as np\n",
    "import matplotlib.pyplot as plt"
   ]
  },
  {
   "cell_type": "code",
   "execution_count": 3,
   "id": "42eb4737",
   "metadata": {},
   "outputs": [
    {
     "name": "stdout",
     "output_type": "stream",
     "text": [
      "Training samples: 5m Features: 2\n"
     ]
    }
   ],
   "source": [
    "# Dummy data creation\n",
    "# Features: [engine size, weight]\n",
    "X = np.array([\n",
    "    [1.6, 2500],\n",
    "    [2.0, 3000],\n",
    "    [2.4, 3200],\n",
    "    [3.0, 3500],\n",
    "    [3.6, 4000]\n",
    "])\n",
    "\n",
    "# Target: fuel efficiency\n",
    "y = np.array([35, 30, 28, 25, 20])\n",
    "\n",
    "m, n = X.shape\n",
    "\n",
    "print(f\"Training samples: {m}m Features: {n}\")"
   ]
  },
  {
   "cell_type": "code",
   "execution_count": 4,
   "id": "6a6f4b55",
   "metadata": {},
   "outputs": [],
   "source": [
    "X = (X - np.mean(X, axis=0)) / np.std(X, axis=0)\n",
    "\n",
    "X = np.c_[np.ones((m, 1)), X]"
   ]
  },
  {
   "cell_type": "code",
   "execution_count": 5,
   "id": "003cd2aa",
   "metadata": {},
   "outputs": [],
   "source": [
    "# Cost function\n",
    "\n",
    "def predict(X, theta):\n",
    "    return X.dot(theta)\n",
    "\n",
    "def compute_cost(X, y, theta):\n",
    "    m = len(y)\n",
    "    predictions = predict(X, theta)\n",
    "    cost = (1/(2*m)) * np.sum((predictions - y)**2)\n",
    "    return cost"
   ]
  },
  {
   "cell_type": "code",
   "execution_count": 8,
   "id": "df8efc70",
   "metadata": {},
   "outputs": [],
   "source": [
    "#Gradient descent\n",
    "\n",
    "def gradient_descent(X, y, theta, alpha, epochs):\n",
    "    m = len(y)\n",
    "    cost_history = []\n",
    "\n",
    "    for _ in range(epochs):\n",
    "        predictions = predict(X, theta)\n",
    "        error = predictions - y\n",
    "        gradient = (1/m) * X.T.dot(error)\n",
    "        theta -= alpha * gradient\n",
    "        cost_history.append(compute_cost(X, y, theta))\n",
    "\n",
    "    return theta, cost_history"
   ]
  },
  {
   "cell_type": "code",
   "execution_count": 9,
   "id": "a75560b7",
   "metadata": {},
   "outputs": [
    {
     "name": "stdout",
     "output_type": "stream",
     "text": [
      "Learned parameters: [27.6        -0.6838857  -4.32011271]\n",
      "Final cost: 0.01\n"
     ]
    }
   ],
   "source": [
    "# Train model\n",
    "\n",
    "theta = np.zeros(X.shape[1])\n",
    "alpha = 0.1\n",
    "epochs = 1000\n",
    "\n",
    "theta, cost_history = gradient_descent(X, y, theta, alpha, epochs)\n",
    "\n",
    "print(f\"Learned parameters: {theta}\")\n",
    "print(f\"Final cost: {cost_history[-1]:.2f}\")"
   ]
  },
  {
   "cell_type": "code",
   "execution_count": 11,
   "id": "cafabd43",
   "metadata": {},
   "outputs": [
    {
     "name": "stdout",
     "output_type": "stream",
     "text": [
      "Predicted MPG for new car: 29.12\n"
     ]
    }
   ],
   "source": [
    "#Test predictions\n",
    "\n",
    "#Example: engine=2.2, weight=3100\n",
    "new_car = np.array([1, (2.2-np.mean([1.6,2.0,2.4,3.0,3.6]))/np.std([1.6,2.0,2.4,3.0,3.6]),\n",
    "                    (3100-np.mean([2500,3000,3200,3500,4000]))/np.std([2500,3000,3200,3500,4000])])\n",
    "\n",
    "predictions_mpg = predict(new_car, theta)\n",
    "print(f\"Predicted MPG for new car: {predictions_mpg:.2f}\")"
   ]
  },
  {
   "cell_type": "code",
   "execution_count": null,
   "id": "1f89c840",
   "metadata": {},
   "outputs": [],
   "source": []
  }
 ],
 "metadata": {
  "kernelspec": {
   "display_name": "Python 3",
   "language": "python",
   "name": "python3"
  },
  "language_info": {
   "codemirror_mode": {
    "name": "ipython",
    "version": 3
   },
   "file_extension": ".py",
   "mimetype": "text/x-python",
   "name": "python",
   "nbconvert_exporter": "python",
   "pygments_lexer": "ipython3",
   "version": "3.13.5"
  }
 },
 "nbformat": 4,
 "nbformat_minor": 5
}
